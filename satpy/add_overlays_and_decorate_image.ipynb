{
 "cells": [
  {
   "cell_type": "markdown",
   "id": "99b04380",
   "metadata": {},
   "source": [
    "# Decorate your satellite images to make them ready for publication\n",
    "This example demonstrate how you can add various overlays like coastlines, borders and graticules and decorate your image with text, points, logos, etc, in order to make it ready for publication."
   ]
  },
  {
   "cell_type": "code",
   "execution_count": 1,
   "id": "d1b041bc",
   "metadata": {},
   "outputs": [],
   "source": [
    "import os\n",
    "from glob import glob\n",
    "from satpy import Scene\n",
    "\n",
    "DATA_DIR = \"/home/a000680/data/hrit/20200923\"\n",
    "FILES = glob(os.path.join(DATA_DIR, \"*\"))\n",
    "\n",
    "areaid = 'euro4'\n",
    "composite_name = 'overview'\n",
    "font = \"/usr/share/fonts/dejavu/DejaVuSerif.ttf\"\n",
    "pytroll_logo = \"/home/a000680/data/logos/pytroll_dark_small.png\"\n",
    "eumetsat_logo = \"/home/a000680/data/logos/eumetsat_logo.gif\"\n"
   ]
  },
  {
   "cell_type": "markdown",
   "id": "8d987a76",
   "metadata": {},
   "source": [
    "First we prepare a dictionary specifying how we want the graticules to be later drawn over the image."
   ]
  },
  {
   "cell_type": "code",
   "execution_count": 2,
   "id": "250273be",
   "metadata": {},
   "outputs": [],
   "source": [
    "grid = {'major_lonlat': (10, 10), 'minor_lonlat': (2, 2),\n",
    "        'outline': (255, 255, 0), 'outline_opacity': 175,\n",
    "        'width': 1.0, 'minor_width': 0.5, 'minor_is_tick': 1,\n",
    "        'write_text': True, 'lat_placement': 'lr', 'lon_placement': 'b',\n",
    "        'font': font}"
   ]
  },
  {
   "cell_type": "markdown",
   "id": "76bfa33d",
   "metadata": {},
   "source": [
    "We also want to point out a few geographical places, in this case four capitols in Europe.\n",
    "Each city will be marked by a white dot with a black ring around, and for each dot the name of the city is written in a red text box:"
   ]
  },
  {
   "cell_type": "code",
   "execution_count": 3,
   "id": "ba4354ba",
   "metadata": {},
   "outputs": [],
   "source": [
    "poi_list = [((2.3522, 48.8566), 'Paris'),\n",
    "            ((0.1278, 51.5074), 'London'),\n",
    "            ((12.568, 55.676), 'Copenhagen'),\n",
    "            ((24.938, 60.170), 'Helsinki')]\n",
    "points = {'font': font,\n",
    "          'font_size': 20, 'points_list': poi_list, 'symbol': 'circle', 'ptsize': 5,\n",
    "          'outline': 'black', 'fill': 'white', 'width': 8, 'fill_opacity': 255, 'box_outline': 'black',\n",
    "          'box_linewidth': 2.0, 'box_fill': (255, 0,  0), 'box_opacity': 127}"
   ]
  },
  {
   "cell_type": "markdown",
   "id": "83af0deb",
   "metadata": {},
   "source": [
    "Now prepare the dictionaries with specifications for the coastlines, borders and rivers to be shown on the image:"
   ]
  },
  {
   "cell_type": "code",
   "execution_count": 5,
   "id": "f619961a",
   "metadata": {},
   "outputs": [],
   "source": [
    "coast = {'outline': (255, 255, 255), 'width': 1.5, 'level': 1, 'resolution': 'l'}\n",
    "borders = {'outline': (255, 255, 255), 'width': 1.0, 'level': 3, 'resolution': 'i'}\n",
    "rivers = {'outline': (0,   0, 255), 'width': 1.0, 'level': 3, 'resolution': 'i'}"
   ]
  },
  {
   "cell_type": "markdown",
   "id": "918f6b17",
   "metadata": {},
   "source": [
    "Now load the Meteosat SEVIRI scene and resample it onto the area specified via its name above (euro4):"
   ]
  },
  {
   "cell_type": "code",
   "execution_count": 6,
   "id": "56f76609",
   "metadata": {},
   "outputs": [
    {
     "name": "stderr",
     "output_type": "stream",
     "text": [
      "/home/a000680/miniconda3/envs/python38/lib/python3.8/site-packages/pyproj/crs/crs.py:543: UserWarning: You will likely lose important projection information when converting to a PROJ string from another format. See: https://proj.org/faq.html#what-is-the-best-format-for-describing-coordinate-reference-systems\n",
      "  proj_string = self.to_proj4()\n",
      "/home/a000680/miniconda3/envs/python38/lib/python3.8/site-packages/pyproj/crs/crs.py:543: UserWarning: You will likely lose important projection information when converting to a PROJ string from another format. See: https://proj.org/faq.html#what-is-the-best-format-for-describing-coordinate-reference-systems\n",
      "  proj_string = self.to_proj4()\n"
     ]
    }
   ],
   "source": [
    "scn = Scene(filenames=FILES, reader='seviri_l1b_hrit')\n",
    "scn.load([composite_name])\n",
    "local_scn = scn.resample(areaid, radius_of_influence=35000.0)"
   ]
  },
  {
   "cell_type": "markdown",
   "id": "6be1b4af",
   "metadata": {},
   "source": [
    "Now we prepare how to decorate the image with logos and a header text including the time of observation, taken from the scene object:"
   ]
  },
  {
   "cell_type": "code",
   "execution_count": 7,
   "id": "8aa5ca1a",
   "metadata": {},
   "outputs": [],
   "source": [
    "start_time_txt = local_scn.start_time.strftime('%Y-%m-%d %H:%M')\n",
    "\n",
    "decoration = [\n",
    "    {'logo': {'logo_path': pytroll_logo,\n",
    "              'height': 60, 'bg': 'white', 'bg_opacity': 120}},\n",
    "    {'logo': {'logo_path': eumetsat_logo,\n",
    "              'height': 60, 'bg': 'white', 'bg_opacity': 120}},\n",
    "    {'text': {'txt': 'Meteosat-11' + ' ' + start_time_txt +\n",
    "              \"\\nComposite:  \" + composite_name + \", Area: \" + areaid,\n",
    "              'font': font,\n",
    "              'font_size': 20, 'height': 10, 'bg': 'white', 'bg_opacity': 127, 'line': 'black'}}]"
   ]
  },
  {
   "cell_type": "markdown",
   "id": "4fdfba2b",
   "metadata": {},
   "source": [
    "Now we can either show rhe image directly or save it to disk. When doing this it is possible to also add the decorations (logos and text) and draw the overlays (coastlines, rivers, borders, graticules and points). This is done using the keyword arguments `overlay` and `decorate` in this case. The path to the shape files with coastlines etc need to specified obviously:"
   ]
  },
  {
   "cell_type": "code",
   "execution_count": 8,
   "id": "4e79147b",
   "metadata": {},
   "outputs": [
    {
     "name": "stderr",
     "output_type": "stream",
     "text": [
      "/home/a000680/miniconda3/envs/python38/lib/python3.8/site-packages/pyproj/crs/crs.py:543: UserWarning: You will likely lose important projection information when converting to a PROJ string from another format. See: https://proj.org/faq.html#what-is-the-best-format-for-describing-coordinate-reference-systems\n",
      "  proj_string = self.to_proj4()\n",
      "/home/a000680/miniconda3/envs/python38/lib/python3.8/site-packages/dask/core.py:121: RuntimeWarning: invalid value encountered in cos\n",
      "  return func(*(_execute_task(a, cache) for a in args))\n",
      "/home/a000680/miniconda3/envs/python38/lib/python3.8/site-packages/dask/core.py:121: RuntimeWarning: invalid value encountered in sin\n",
      "  return func(*(_execute_task(a, cache) for a in args))\n",
      "/home/a000680/miniconda3/envs/python38/lib/python3.8/site-packages/dask/core.py:121: RuntimeWarning: invalid value encountered in log\n",
      "  return func(*(_execute_task(a, cache) for a in args))\n"
     ]
    }
   ],
   "source": [
    "local_scn.save_dataset(composite_name,\n",
    "                       filename='seviri_%s_%s_%s.tif' % (composite_name,\n",
    "                                                         local_scn.start_time.strftime('%Y%m%d_%H%M'),\n",
    "                                                         areaid),\n",
    "                       overlay={'coast_dir': '/home/a000680/data/shapes/',\n",
    "                                'overlays': {'grid': grid,\n",
    "                                             'coasts': coast,\n",
    "                                             'borders': borders,\n",
    "                                             'rivers': rivers,\n",
    "                                             'points': points}},\n",
    "                       decorate={'decorate': decoration})"
   ]
  },
  {
   "cell_type": "code",
   "execution_count": null,
   "id": "bed44722",
   "metadata": {},
   "outputs": [],
   "source": []
  }
 ],
 "metadata": {
  "kernelspec": {
   "display_name": "Python 3",
   "language": "python",
   "name": "python3"
  },
  "language_info": {
   "codemirror_mode": {
    "name": "ipython",
    "version": 3
   },
   "file_extension": ".py",
   "mimetype": "text/x-python",
   "name": "python",
   "nbconvert_exporter": "python",
   "pygments_lexer": "ipython3",
   "version": "3.8.0"
  }
 },
 "nbformat": 4,
 "nbformat_minor": 5
}
